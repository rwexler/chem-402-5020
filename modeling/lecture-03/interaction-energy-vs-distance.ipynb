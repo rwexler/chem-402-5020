{
 "cells": [
  {
   "cell_type": "markdown",
   "metadata": {},
   "source": [
    "# Interaction Energy vs. Distance for Major Air Components\n",
    "\n",
    "https://matbench-discovery.materialsproject.org/"
   ]
  },
  {
   "cell_type": "code",
   "execution_count": 21,
   "metadata": {},
   "outputs": [
    {
     "name": "stdout",
     "output_type": "stream",
     "text": [
      "Using Materials Project MACE for MACECalculator with /Users/robertwexler/.cache/mace/20231203mace128L1_epoch199model\n",
      "Using float32 for MACECalculator, which is faster but less accurate. Recommended for MD. Use float64 for geometry optimization.\n",
      "Default dtype float32 does not match model dtype float64, converting models to float32.\n",
      "      Step     Time          Energy          fmax\n",
      "BFGS:    0 22:24:28      -16.213923        1.873872\n",
      "BFGS:    1 22:24:28      -16.124224        4.461812\n"
     ]
    },
    {
     "name": "stderr",
     "output_type": "stream",
     "text": [
      "/Users/robertwexler/miniconda3/envs/chem-402-5020/lib/python3.10/site-packages/mace/calculators/mace.py:135: FutureWarning: You are using `torch.load` with `weights_only=False` (the current default value), which uses the default pickle module implicitly. It is possible to construct malicious pickle data which will execute arbitrary code during unpickling (See https://github.com/pytorch/pytorch/blob/main/SECURITY.md#untrusted-models for more details). In a future release, the default value for `weights_only` will be flipped to `True`. This limits the functions that could be executed during unpickling. Arbitrary objects will no longer be allowed to be loaded via this mode unless they are explicitly allowlisted by the user via `torch.serialization.add_safe_globals`. We recommend you start setting `weights_only=True` for any use case where you don't have full control of the loaded file. Please open an issue on GitHub for any issues related to this experimental feature.\n",
      "  torch.load(f=model_path, map_location=device)\n"
     ]
    },
    {
     "name": "stdout",
     "output_type": "stream",
     "text": [
      "BFGS:    2 22:24:28      -16.224463        0.482056\n",
      "BFGS:    3 22:24:28      -16.225212        0.159596\n",
      "BFGS:    4 22:24:28      -16.225300        0.003083\n",
      "Relaxed energy of isolated N2: -16.225300 eV\n",
      "      Step     Time          Energy          fmax\n",
      "BFGS:    0 22:24:28       -9.663555        2.079415\n",
      "BFGS:    1 22:24:28       -9.662119        1.647508\n",
      "BFGS:    2 22:24:28       -9.688118        0.350030\n",
      "BFGS:    3 22:24:29       -9.689272        0.033586\n",
      "BFGS:    4 22:24:29       -9.689282        0.002483\n",
      "Relaxed energy of isolated O2: -9.689282 eV\n",
      "      Step     Time          Energy          fmax\n",
      "BFGS:    0 22:24:29       -0.064551        0.000000\n",
      "Relaxed energy of isolated Ar: -0.064551 eV\n",
      "      Step     Time          Energy          fmax\n",
      "BFGS:    0 22:24:29      -32.427841        1.874121\n",
      "BFGS:    1 22:24:29      -32.248421        4.462291\n",
      "BFGS:    2 22:24:29      -32.448925        0.482329\n",
      "BFGS:    3 22:24:29      -32.450424        0.160263\n",
      "BFGS:    4 22:24:29      -32.450600        0.004155\n",
      "      Step     Time          Energy          fmax\n",
      "BFGS:    0 22:24:29      -19.327110        2.079493\n",
      "BFGS:    1 22:24:29      -19.324230        1.647767\n",
      "BFGS:    2 22:24:29      -19.376232        0.350059\n",
      "BFGS:    3 22:24:29      -19.378544        0.033712\n",
      "BFGS:    4 22:24:29      -19.378565        0.002660\n",
      "      Step     Time          Energy          fmax\n",
      "BFGS:    0 22:24:29       -0.129102        0.000000\n",
      "Interaction energy between two N2 molecules at 34.0 Å: 0.000000 eV\n",
      "Interaction energy between two O2 molecules at 34.0 Å: 0.000000 eV\n",
      "Interaction energy between two Ar atoms at 34.0 Å: 0.000000 eV\n"
     ]
    }
   ],
   "source": [
    "from ase import Atoms\n",
    "from ase.optimize import BFGS\n",
    "from mace.calculators import mace_mp\n",
    "\n",
    "# Initialize the calculator\n",
    "macemp = mace_mp()  # Default medium ASE calculator\n",
    "\n",
    "# Define molecules and atoms\n",
    "n2 = Atoms('N2', positions=[[0, 0, 0], [0, 0, 1.1]])  # N2 molecule\n",
    "o2 = Atoms('O2', positions=[[0, 0, 0], [0, 0, 1.21]])  # O2 molecule\n",
    "ar = Atoms('Ar', positions=[[0, 0, 0]])  # Ar atom\n",
    "\n",
    "# Relax isolated species\n",
    "relaxed_energies = {}\n",
    "for species, name in zip([n2, o2, ar], [\"N2\", \"O2\", \"Ar\"]):\n",
    "    species = species.copy()  # Ensure a fresh copy for each relaxation\n",
    "    species.calc = macemp\n",
    "    relax = BFGS(species)\n",
    "    relax.run(fmax=0.01)\n",
    "    energy = species.get_potential_energy()\n",
    "    relaxed_energies[name] = energy\n",
    "    print(f\"Relaxed energy of isolated {name}: {energy:.6f} eV\")\n",
    "\n",
    "# Function to calculate interaction energy\n",
    "def calculate_interaction_energy(molecule1, molecule2, distance):\n",
    "    molecule1 = molecule1.copy()\n",
    "    molecule2 = molecule2.copy()\n",
    "\n",
    "    # Translate molecule2 by the specified distance\n",
    "    molecule2.translate([0, 0, distance])\n",
    "\n",
    "    # Combine the two molecules into one system\n",
    "    system = molecule1 + molecule2\n",
    "    system.calc = macemp\n",
    "\n",
    "    # Optimize the system\n",
    "    relax = BFGS(system)\n",
    "    relax.run(fmax=0.01)\n",
    "\n",
    "    # Calculate interaction energy\n",
    "    system_energy = system.get_potential_energy()\n",
    "    interaction_energy = system_energy - (relaxed_energies[molecule1.get_chemical_formula()] + relaxed_energies[molecule2.get_chemical_formula()])\n",
    "    return interaction_energy\n",
    "\n",
    "# Define the separation distance\n",
    "separation_distance = 34.0  # Å\n",
    "\n",
    "# Calculate interaction energies\n",
    "interaction_energy_n2 = calculate_interaction_energy(n2, n2, separation_distance)\n",
    "interaction_energy_o2 = calculate_interaction_energy(o2, o2, separation_distance)\n",
    "interaction_energy_ar = calculate_interaction_energy(ar, ar, separation_distance)\n",
    "\n",
    "# Print results\n",
    "print(f\"Interaction energy between two N2 molecules at {separation_distance} Å: {interaction_energy_n2:.6f} eV\")\n",
    "print(f\"Interaction energy between two O2 molecules at {separation_distance} Å: {interaction_energy_o2:.6f} eV\")\n",
    "print(f\"Interaction energy between two Ar atoms at {separation_distance} Å: {interaction_energy_ar:.6f} eV\")"
   ]
  },
  {
   "cell_type": "code",
   "execution_count": null,
   "metadata": {},
   "outputs": [],
   "source": []
  }
 ],
 "metadata": {
  "kernelspec": {
   "display_name": "chem-402-5020",
   "language": "python",
   "name": "python3"
  },
  "language_info": {
   "codemirror_mode": {
    "name": "ipython",
    "version": 3
   },
   "file_extension": ".py",
   "mimetype": "text/x-python",
   "name": "python",
   "nbconvert_exporter": "python",
   "pygments_lexer": "ipython3",
   "version": "3.10.16"
  }
 },
 "nbformat": 4,
 "nbformat_minor": 2
}
