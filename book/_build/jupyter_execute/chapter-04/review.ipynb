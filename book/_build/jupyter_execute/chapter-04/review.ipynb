{
 "cells": [
  {
   "cell_type": "markdown",
   "id": "b8b233fd",
   "metadata": {},
   "source": [
    "# Review\n",
    "\n",
    "## 1. Checklist of Key Concepts\n",
    "\n",
    "1. **Entropy as a State Function**\n",
    "   - **Definition**: For a reversible process, the change in entropy is\n",
    "\n",
    "   ```{math}\n",
    "   dS \\;=\\;\\frac{\\delta q_\\text{rev}}{T}\n",
    "   ```\n",
    "\n",
    "   - **Key Property**: $S$ depends only on the initial and final states—**not** on the path taken.\n",
    "   - **Physical Meaning**: Measures dispersal of energy; quantifies how heat “spreads out” in a system.\n",
    "\n",
    "2. **Spontaneity and the Second Law**\n",
    "   - **Clausius Statement**: Heat does not spontaneously flow from cold to hot.\n",
    "   - **Entropy Criterion**:\n",
    "     - For an **isolated** system, $\\Delta S_\\text{tot} \\ge 0$.\n",
    "     - Equality holds only for reversible processes; strict inequality for irreversible ones.\n",
    "   - **Macroscopic Implication**: Determines the “arrow of time”—which processes can occur spontaneously.\n",
    "\n",
    "3. **Carnot Cycle & Maximum Efficiency**\n",
    "   - **Reversible Engine**: Comprised of two isotherms $\\left( T_h, T_c \\right)$ and two adiabats.\n",
    "   - **Efficiency**:\n",
    "\n",
    "   ```{math}\n",
    "   \\eta_\\text{Carnot} \\;=\\; 1 - \\frac{T_c}{T_h}\n",
    "   \\quad\\Longrightarrow\\quad\n",
    "   \\text{This is the upper limit for any heat engine.}\n",
    "   ```\n",
    "\n",
    "   - **Significance**: Links thermodynamic reversibility to practical limits on converting heat to work.\n",
    "\n",
    "4. **Microscopic Origin of Entropy**\n",
    "   - **Boltzmann’s Formula**:\n",
    "\n",
    "   ```{math}\n",
    "   S \\;=\\; k_B \\ln \\Omega\n",
    "   ```\n",
    "\n",
    "   where $\\Omega$ is the number of accessible microstates at given $U, V, N$.\n",
    "   - **Statistical Interpretation**: Entropy quantifies uncertainty about which microstate the system occupies.\n",
    "   - **Approach to Equilibrium**: Systems evolve towards macrostates with higher $\\Omega$; thus $S$ increases until equilibrium.\n",
    "\n",
    "---\n",
    "\n",
    "## 2. Checklist of Most Important Equations\n",
    "\n",
    "| **Equation** | **Variable Definitions** | **Meaning & Use Cases** | **Caveats/Approximations** |\n",
    "|:-|:-|:-|:-|\n",
    "| $dS = \\frac{\\delta q_\\text{rev}}{T}$ | $\\delta q_\\text{rev}$: infinitesimal heat in a reversible process<br>$T$: absolute temperature | Fundamental relation defining entropy. Use to compute $\\Delta S$ for isothermal, isobaric, mixing, etc. processes. | Valid **only** for reversible paths; for irreversible processes, $\\Delta S > \\int \\delta q/T$. |\n",
    "| $dU = T\\,dS - P\\,dV$ | $U$: internal energy<br>$P$: pressure<br>$V$: volume | **First law** written in natural variables $(S, V)$. Use to derive Maxwell relations and fundamental thermodynamic identities. | Assumes $U=U(S,V)$ is a well-defined state function; neglects non-PV work. |\n",
    "| $\\eta_\\text{Carnot} = 1 - \\dfrac{T_c}{T_h}$ | $T_h$, $T_c$: temperatures of hot and cold reservoirs | Sets the **maximum** efficiency for any heat engine operating between $T_h$ and $T_c$. Use in engine design and in defining thermodynamic reversibility. | Requires fully reversible (Carnot) cycle; real engines incur friction, heat leaks, and irreversibilities. |\n",
    "| $\\Delta S_\\text{tot} \\ge 0$ | $\\Delta S_\\text{tot}$: entropy change of system + surroundings | General statement of the **Second Law** for isolated systems. Predicts direction of spontaneous processes. | Equality only for reversible processes; in open or non-isolated systems, must include entropy change of environment. |\n",
    "| $S = k_B \\ln \\Omega$ | $k_B$: Boltzmann constant<br>$\\Omega$: number of microstates | Bridges macroscopic entropy with molecular statistics. Use to calculate $S$ from combinatorial counts or partition functions. | Applies to **isolated** systems with well-defined $\\Omega$. Counting microstates can be intractable for large systems. |\n",
    "| $p_i = \\dfrac{e^{-\\beta E_i}}{Q}$; $\\beta = 1/(k_B T)$ | $E_i$: energy of microstate $i$<br>$Q$: canonical partition function | Probability of occupying microstate $i$ in the canonical ensemble. Use in statistical mechanics to compute ensemble averages. | Assumes equilibrium with a heat bath at fixed $T$; neglects quantum degeneracy unless included in $E_i$. |\n",
    "| $S = \\frac{U}{T} + k_B \\ln Q$ | $Q = \\sum_i e^{-\\beta E_i}$: partition function | Expresses entropy in terms of the partition function and internal energy. Use to derive free energies, heat capacities, and response functions. | Derived under canonical ensemble assumptions. Valid when $U$ and $Q$ are known or can be approximated. |"
   ]
  }
 ],
 "metadata": {
  "jupytext": {
   "formats": "md:myst",
   "text_representation": {
    "extension": ".md",
    "format_name": "myst",
    "format_version": 0.13,
    "jupytext_version": "1.11.5"
   }
  },
  "kernelspec": {
   "display_name": "Python 3",
   "language": "python",
   "name": "python3"
  },
  "language_info": {
   "codemirror_mode": {
    "name": "ipython",
    "version": 3
   },
   "file_extension": ".py",
   "mimetype": "text/x-python",
   "name": "python",
   "nbconvert_exporter": "python",
   "pygments_lexer": "ipython3",
   "version": "3.10.16"
  },
  "source_map": [
   13
  ]
 },
 "nbformat": 4,
 "nbformat_minor": 5
}