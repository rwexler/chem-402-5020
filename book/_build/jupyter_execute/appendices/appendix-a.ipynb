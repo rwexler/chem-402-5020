{
 "cells": [
  {
   "cell_type": "markdown",
   "id": "07b7957b",
   "metadata": {},
   "source": [
    "# Appendix A. Differential Calculus\n",
    "\n",
    "## Exact Differentials vs. State Variables\n",
    "\n",
    "There's a subtle distinction between an exact differential and a state variable that's worth considering. Formally, we say that \"a state variable has an exact differential.\" Alternatively, \"the differential of a state variable is exact.\" For instance, if we compress a balloon infinitesimally ($dV_m$) while slowly moving it toward a heat source ($dT$), the pressure $P$ would change by:\n",
    "\n",
    "```{math}\n",
    "dP = \\left( \\frac{\\partial P}{\\partial V_m} \\right)_T dV_m + \\left( \\frac{\\partial P}{\\partial T} \\right)_{V_m} dT\n",
    "```\n",
    "\n",
    "This illustrates how the value of a state variable $P$ shifts in response to tiny changes in its independent variables. In short, while it's correct to say \"$dP$ is exact (not $P$) because $P$ is a state variable,\" it's more logically precise to note that \"$P$ is a state variable because $dP$ is exact.\"\n",
    "\n",
    "## Exact vs. Inexact Differentials\n",
    "\n",
    "In thermodynamics, we encounter both exact and inexact differentials:\n",
    "\n",
    "* **Exact differentials**: These have equal mixed partial derivatives and integrate to a unique function (for example, $dU$ for the internal energy $U$).\n",
    "\n",
    "* **Inexact differentials**: These have unequal mixed partial derivatives and do not integrate to a single function (examples include the differentials for heat and work).\n",
    "\n",
    "The idea of seeking a method to convert an inexact differential into an exact one is a key step in the derivation of entropy. In fact, by applying an integrating factor—in this case, $1/T$—we can transform the inexact differential of heat $\\delta q$ into the exact differential $dS = \\delta q/T$. This approach was central to the original formulation of entropy."
   ]
  }
 ],
 "metadata": {
  "jupytext": {
   "formats": "md:myst",
   "text_representation": {
    "extension": ".md",
    "format_name": "myst",
    "format_version": 0.13,
    "jupytext_version": "1.11.5"
   }
  },
  "kernelspec": {
   "display_name": "Python 3",
   "language": "python",
   "name": "python3"
  },
  "language_info": {
   "codemirror_mode": {
    "name": "ipython",
    "version": 3
   },
   "file_extension": ".py",
   "mimetype": "text/x-python",
   "name": "python",
   "nbconvert_exporter": "python",
   "pygments_lexer": "ipython3",
   "version": "3.10.16"
  },
  "source_map": [
   13
  ]
 },
 "nbformat": 4,
 "nbformat_minor": 5
}