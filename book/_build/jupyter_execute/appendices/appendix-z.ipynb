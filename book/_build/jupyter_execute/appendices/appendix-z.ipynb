{
 "cells": [
  {
   "cell_type": "markdown",
   "id": "81588cf6",
   "metadata": {},
   "source": [
    "# Appendix Z. Orders of Magnitude\n",
    "\n",
    "## Volume"
   ]
  },
  {
   "cell_type": "code",
   "execution_count": 1,
   "id": "42467b64",
   "metadata": {},
   "outputs": [
    {
     "data": {
      "image/png": "[encoded data removed]",
      "text/plain": [
       "<Figure size 1000x200 with 1 Axes>"
      ]
     },
     "metadata": {},
     "output_type": "display_data"
    }
   ],
   "source": [
    "import matplotlib.pyplot as plt\n",
    "\n",
    "# Define a few course-relevant examples (volume in m³) and labels.\n",
    "# These examples span from atomic to macroscopic scales.\n",
    "# (You may adjust the values or add more points as desired.)\n",
    "examples = [\n",
    "    (1e-30, 'Atom'),\n",
    "    (1e-27, 'Molecule'),\n",
    "    (1e-23, 'Protein'),\n",
    "    (1e-15, 'Cell'),\n",
    "    (2.24e-2, 'Molar Gas'),\n",
    "    (1e-1, 'Human')\n",
    "]\n",
    "\n",
    "# Create the figure and axis.\n",
    "fig, ax = plt.subplots(figsize=(10, 2))\n",
    "\n",
    "# Set the x-axis to logarithmic scale.\n",
    "ax.set_xscale('log')\n",
    "\n",
    "# Hide the y-axis (we only need a horizontal line).\n",
    "ax.get_yaxis().set_visible(False)\n",
    "\n",
    "# Set x-axis limits to cover the data range.\n",
    "ax.set_xlim(1e-30, 1e0)\n",
    "\n",
    "# Draw a horizontal axis line at y = 0.\n",
    "ax.axhline(0, color='black', lw=1)\n",
    "\n",
    "# Plot each example as a vertical dash with a text label.\n",
    "# We alternate the label placement above and below the axis to reduce crowding.\n",
    "for i, (x, label) in enumerate(examples):\n",
    "    # Draw a vertical dash at x.\n",
    "    # ymin and ymax are in axis-relative coordinates (0 to 1)\n",
    "    ax.axvline(x=x, ymin=0.45, ymax=0.55, color='black')\n",
    "    \n",
    "    # Alternate label positions: even index above, odd below.\n",
    "    if i % 2 == 0:\n",
    "        y_text = 0.6  # above the axis\n",
    "        va = 'bottom'\n",
    "    else:\n",
    "        y_text = 0.4  # below the axis\n",
    "        va = 'top'\n",
    "        \n",
    "    # Place the text with a rotation so that the \"bottom\" of the text faces right.\n",
    "    # A rotation of -90 degrees rotates the text 90° clockwise.\n",
    "    ax.text(x, y_text, label, rotation=-90, ha='center', va=va, fontsize=10)\n",
    "\n",
    "# Optionally, remove other spines for a cleaner look.\n",
    "for spine in ['top', 'right', 'left']:\n",
    "    ax.spines[spine].set_visible(False)\n",
    "\n",
    "# Label the x-axis.\n",
    "ax.set_xlabel(\"Volume (m³, log scale)\")\n",
    "\n",
    "plt.tight_layout()\n",
    "plt.show()"
   ]
  }
 ],
 "metadata": {
  "jupytext": {
   "formats": "md:myst",
   "text_representation": {
    "extension": ".md",
    "format_name": "myst",
    "format_version": 0.13,
    "jupytext_version": "1.11.5"
   }
  },
  "kernelspec": {
   "display_name": "Python 3",
   "language": "python",
   "name": "python3"
  },
  "language_info": {
   "codemirror_mode": {
    "name": "ipython",
    "version": 3
   },
   "file_extension": ".py",
   "mimetype": "text/x-python",
   "name": "python",
   "nbconvert_exporter": "python",
   "pygments_lexer": "ipython3",
   "version": "3.10.16"
  },
  "source_map": [
   13,
   19
  ]
 },
 "nbformat": 4,
 "nbformat_minor": 5
}