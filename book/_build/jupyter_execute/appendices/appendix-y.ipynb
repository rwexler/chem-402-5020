{
 "cells": [
  {
   "cell_type": "markdown",
   "id": "6cdcea33",
   "metadata": {},
   "source": [
    "# Appendix Y. Thermochemical Data\n",
    "\n",
    "## Y.1. Experimental Data\n",
    "\n",
    "- Computational Chemistry Comparison and Benchmark DataBase (CCCBDB): [https://cccbdb.nist.gov/](https://cccbdb.nist.gov/)\n",
    "- Chemistry WebBook: [https://webbook.nist.gov/chemistry/](https://webbook.nist.gov/chemistry/)\n",
    "- JANAF Thermochemical Tables: [https://doi.org/10.18434/T42S31](https://doi.org/10.18434/T42S31)\n",
    "- Active Thermochemical Tables (ATcT): [https://atct.anl.gov/](https://atct.anl.gov/)\n",
    "\n",
    "NIST = National Institute of Standards and Technology\n",
    "JANAF = Joint Army-Navy-Air Force Thermochemical Tables"
   ]
  }
 ],
 "metadata": {
  "jupytext": {
   "formats": "md:myst",
   "text_representation": {
    "extension": ".md",
    "format_name": "myst",
    "format_version": 0.13,
    "jupytext_version": "1.11.5"
   }
  },
  "kernelspec": {
   "display_name": "Python 3",
   "language": "python",
   "name": "python3"
  },
  "language_info": {
   "codemirror_mode": {
    "name": "ipython",
    "version": 3
   },
   "file_extension": ".py",
   "mimetype": "text/x-python",
   "name": "python",
   "nbconvert_exporter": "python",
   "pygments_lexer": "ipython3",
   "version": "3.10.16"
  },
  "source_map": [
   13
  ]
 },
 "nbformat": 4,
 "nbformat_minor": 5
}