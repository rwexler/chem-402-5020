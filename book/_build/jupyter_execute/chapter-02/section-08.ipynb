{
 "cells": [
  {
   "cell_type": "markdown",
   "id": "5594c129",
   "metadata": {},
   "source": [
    "# 2.8. Molecular Statistical Mechanics\n",
    "\n",
    "## Overview\n",
    "\n",
    "## Symmetry of Linear Rigid Rotors\n",
    "\n",
    "## Nonlinear Rigid Rotors\n",
    "\n",
    "## Vibrations of Polyatomic Molecules\n",
    "\n",
    "## Electronic Partition Function\n",
    "\n",
    "## Summary\n",
    "\n",
    "```{list-table} Partition functions for various systems. Repeated entries are denoted by a down arrow.\n",
    ":header-rows: 1\n",
    ":name: tab:partfunc\n",
    "\n",
    "* - System\n",
    "  - $q_{\\text{trans}}$\n",
    "  - $q_{\\text{rot}}$\n",
    "  - $q_{\\text{vib}}$\n",
    "  - $q_{\\text{elec}}$\n",
    "* - Atom\n",
    "  - $\\dfrac{V}{\\Lambda^3}$\n",
    "  - \n",
    "  - \n",
    "  - $g_1$\n",
    "* - Diatomic\n",
    "  - $\\downarrow$\n",
    "  - $\\dfrac{T}{\\sigma\\,\\Theta_{\\text{rot}}}$\n",
    "  - $\\dfrac{e^{-\\Theta_{\\text{vib}}/(2T)}}{1-e^{-\\Theta_{\\text{vib}}/T}}$\n",
    "  - $\\downarrow$\n",
    "* - **Polyatomic**\n",
    "  - \n",
    "  - \n",
    "  - \n",
    "  - \n",
    "* - *Linear*\n",
    "  - $\\downarrow$\n",
    "  - $\\downarrow$\n",
    "  - $\\displaystyle\\prod_{j=1}^\\alpha \\dfrac{e^{-\\Theta_{\\text{vib},j}/(2T)}}{1-e^{-\\Theta_{\\text{vib},j}/T}}$\n",
    "  - $\\downarrow$\n",
    "* - *Nonlinear*\n",
    "  - \n",
    "  - \n",
    "  - \n",
    "  - \n",
    "* - Spherical\n",
    "  - $\\downarrow$\n",
    "  - $\\dfrac{\\sqrt{\\pi}}{\\sigma}\\left(\\dfrac{T}{\\Theta_{\\text{rot}}}\\right)^{3/2}$\n",
    "  - $\\downarrow$\n",
    "  - $\\downarrow$\n",
    "* - Symmetric\n",
    "  - $\\downarrow$\n",
    "  - $\\dfrac{\\sqrt{\\pi}}{\\sigma}\\left(\\dfrac{T}{\\Theta_{\\text{rot,A}}}\\right)\\left(\\dfrac{T}{\\Theta_{\\text{rot,C}}}\\right)^{1/2}$\n",
    "  - $\\downarrow$\n",
    "  - $\\downarrow$\n",
    "* - Asymmetric\n",
    "  - $\\downarrow$\n",
    "  - $\\dfrac{\\sqrt{\\pi}}{\\sigma}\\left(\\dfrac{T^3}{\\Theta_{\\text{rot,A}}\\,\\Theta_{\\text{rot,B}}\\,\\Theta_{\\text{rot,C}}}\\right)^{1/2}$\n",
    "  - $\\downarrow$\n",
    "  - $\\downarrow$\n",
    "```"
   ]
  }
 ],
 "metadata": {
  "jupytext": {
   "formats": "md:myst",
   "text_representation": {
    "extension": ".md",
    "format_name": "myst",
    "format_version": 0.13,
    "jupytext_version": "1.11.5"
   }
  },
  "kernelspec": {
   "display_name": "Python 3",
   "language": "python",
   "name": "python3"
  },
  "language_info": {
   "codemirror_mode": {
    "name": "ipython",
    "version": 3
   },
   "file_extension": ".py",
   "mimetype": "text/x-python",
   "name": "python",
   "nbconvert_exporter": "python",
   "pygments_lexer": "ipython3",
   "version": "3.10.16"
  },
  "source_map": [
   13
  ]
 },
 "nbformat": 4,
 "nbformat_minor": 5
}